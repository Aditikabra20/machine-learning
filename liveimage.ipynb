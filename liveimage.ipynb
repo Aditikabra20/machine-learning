{
  "nbformat": 4,
  "nbformat_minor": 0,
  "metadata": {
    "colab": {
      "name": "Untitled3.ipynb",
      "version": "0.3.2",
      "provenance": []
    },
    "kernelspec": {
      "name": "python3",
      "display_name": "Python 3"
    }
  },
  "cells": [
    {
      "cell_type": "markdown",
      "metadata": {
        "id": "uKj905m7Q5bS",
        "colab_type": "text"
      },
      "source": [
        "**image**"
      ]
    },
    {
      "cell_type": "code",
      "metadata": {
        "id": "EA4TIUVQPi7y",
        "colab_type": "code",
        "colab": {}
      },
      "source": [
        "import cv2"
      ],
      "execution_count": 0,
      "outputs": []
    },
    {
      "cell_type": "code",
      "metadata": {
        "id": "mXGjv3nqPnNj",
        "colab_type": "code",
        "colab": {}
      },
      "source": [
        "#start the camera\n",
        "cap=cv2.VideoCapture(0)"
      ],
      "execution_count": 0,
      "outputs": []
    },
    {
      "cell_type": "code",
      "metadata": {
        "id": "ILJJm5mRPqp1",
        "colab_type": "code",
        "colab": {}
      },
      "source": [
        "#check camera is starting or not\n",
        "if cap.isOpened():\n",
        "    print(\"camera start\")\n",
        "else:\n",
        "    print(\"check the drivers\")"
      ],
      "execution_count": 0,
      "outputs": []
    },
    {
      "cell_type": "code",
      "metadata": {
        "id": "4FaSmyOpPuUP",
        "colab_type": "code",
        "colab": {}
      },
      "source": [
        "cap.read()\n",
        "# give and status and img"
      ],
      "execution_count": 0,
      "outputs": []
    },
    {
      "cell_type": "code",
      "metadata": {
        "id": "Vp3DOPCTQki-",
        "colab_type": "code",
        "colab": {}
      },
      "source": [
        "status,img=cap.read()"
      ],
      "execution_count": 0,
      "outputs": []
    },
    {
      "cell_type": "code",
      "metadata": {
        "id": "KObJCnnNQkx_",
        "colab_type": "code",
        "colab": {}
      },
      "source": [
        "cv2.imshow('image',img)\n",
        "#holding window\n",
        "cv2.waitKey(0)"
      ],
      "execution_count": 0,
      "outputs": []
    },
    {
      "cell_type": "code",
      "metadata": {
        "id": "WC0Kt3IdQk03",
        "colab_type": "code",
        "colab": {}
      },
      "source": [
        "# close camera\n",
        "cap.release()"
      ],
      "execution_count": 0,
      "outputs": []
    },
    {
      "cell_type": "code",
      "metadata": {
        "id": "IF_KRJYFQk4Q",
        "colab_type": "code",
        "colab": {}
      },
      "source": [
        ""
      ],
      "execution_count": 0,
      "outputs": []
    },
    {
      "cell_type": "code",
      "metadata": {
        "id": "yOSbxeKBQk-P",
        "colab_type": "code",
        "colab": {}
      },
      "source": [
        ""
      ],
      "execution_count": 0,
      "outputs": []
    }
  ]
}