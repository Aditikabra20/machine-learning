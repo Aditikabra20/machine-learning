{
  "nbformat": 4,
  "nbformat_minor": 0,
  "metadata": {
    "colab": {
      "name": "Polynomial Regression Problem #1.ipynb",
      "version": "0.3.2",
      "provenance": [],
      "collapsed_sections": [],
      "include_colab_link": true
    },
    "kernelspec": {
      "name": "python3",
      "display_name": "Python 3"
    }
  },
  "cells": [
    {
      "cell_type": "markdown",
      "metadata": {
        "id": "view-in-github",
        "colab_type": "text"
      },
      "source": [
        "<a href=\"https://colab.research.google.com/github/Aditikabra20/machine-learning/blob/sml/Polynomial_Regression_Problem_1.ipynb\" target=\"_parent\"><img src=\"https://colab.research.google.com/assets/colab-badge.svg\" alt=\"Open In Colab\"/></a>"
      ]
    },
    {
      "cell_type": "code",
      "metadata": {
        "id": "3t11RQwcAMrX",
        "colab_type": "code",
        "colab": {}
      },
      "source": [
        "import requests"
      ],
      "execution_count": 0,
      "outputs": []
    },
    {
      "cell_type": "code",
      "metadata": {
        "id": "YH4fbDAgUR6N",
        "colab_type": "code",
        "colab": {}
      },
      "source": [
        "# web url for scarping\n",
        "response=requests.get('https://sports.ndtv.com/cricket/players/857-rohit-sharma-playerprofile/stats')"
      ],
      "execution_count": 0,
      "outputs": []
    },
    {
      "cell_type": "code",
      "metadata": {
        "id": "QuFfUa5LUcI0",
        "colab_type": "code",
        "outputId": "801388b7-3f04-4971-9743-7603c1c3d8ef",
        "colab": {
          "base_uri": "https://localhost:8080/",
          "height": 34
        }
      },
      "source": [
        "response"
      ],
      "execution_count": 3,
      "outputs": [
        {
          "output_type": "execute_result",
          "data": {
            "text/plain": [
              "<Response [200]>"
            ]
          },
          "metadata": {
            "tags": []
          },
          "execution_count": 3
        }
      ]
    },
    {
      "cell_type": "code",
      "metadata": {
        "id": "cCwlZCRyUc8T",
        "colab_type": "code",
        "colab": {}
      },
      "source": [
        "#text data\n",
        "#response.text"
      ],
      "execution_count": 0,
      "outputs": []
    },
    {
      "cell_type": "code",
      "metadata": {
        "id": "f9xXjNCcUfH2",
        "colab_type": "code",
        "colab": {}
      },
      "source": [
        "from bs4 import BeautifulSoup"
      ],
      "execution_count": 0,
      "outputs": []
    },
    {
      "cell_type": "code",
      "metadata": {
        "id": "YDAIfEn_Ujj4",
        "colab_type": "code",
        "colab": {}
      },
      "source": [
        "soup=BeautifulSoup(response.text,'html5lib')\n",
        "#                   text           parser"
      ],
      "execution_count": 0,
      "outputs": []
    },
    {
      "cell_type": "code",
      "metadata": {
        "id": "iLuQtT-LwA5d",
        "colab_type": "code",
        "outputId": "fabff068-b551-4014-f59c-bcde8c145851",
        "colab": {
          "base_uri": "https://localhost:8080/",
          "height": 1000
        }
      },
      "source": [
        "#require data\n",
        "data=soup.find_all('div',{\"data-id\":'2'})\n",
        "data"
      ],
      "execution_count": 7,
      "outputs": [
        {
          "output_type": "execute_result",
          "data": {
            "text/plain": [
              "[<div class=\"mod-body lastfive\" data-id=\"2\">\n",
              " <div class=\"score-board batting\">\n",
              " </div>\n",
              " <table border=\"0\" cellpadding=\"0\" cellspacing=\"0\" width=\"100%\">\n",
              " <tbody>\n",
              " <tr>\n",
              " <th scope=\"col\">\n",
              " Batting\n",
              " </th>\n",
              " <th scope=\"col\">\n",
              " Bowling\n",
              " </th>\n",
              " <th scope=\"col\">\n",
              " Opposition\n",
              " </th>\n",
              " <th scope=\"col\">\n",
              " Match Date\n",
              " </th>\n",
              " </tr>\n",
              "  <tr>\n",
              " <td>\n",
              " 103(94)  \n",
              " </td>\n",
              " <td>\n",
              "  - \n",
              " </td>\n",
              " <td>\n",
              " <span class=\"sm-cap\">v</span> Sri Lanka\n",
              " </td>\n",
              " <td>\n",
              " Jul 06, 2019\n",
              " </td>\n",
              " </tr>\n",
              "  <tr>\n",
              " <td>\n",
              " 104(92)  \n",
              " </td>\n",
              " <td>\n",
              "  - \n",
              " </td>\n",
              " <td>\n",
              " <span class=\"sm-cap\">v</span> Bangladesh\n",
              " </td>\n",
              " <td>\n",
              " Jul 02, 2019\n",
              " </td>\n",
              " </tr>\n",
              "  <tr>\n",
              " <td>\n",
              " 102(109)  \n",
              " </td>\n",
              " <td>\n",
              "  - \n",
              " </td>\n",
              " <td>\n",
              " <span class=\"sm-cap\">v</span> England\n",
              " </td>\n",
              " <td>\n",
              " Jun 30, 2019\n",
              " </td>\n",
              " </tr>\n",
              "  <tr>\n",
              " <td>\n",
              " 18(23)  \n",
              " </td>\n",
              " <td>\n",
              "  - \n",
              " </td>\n",
              " <td>\n",
              " <span class=\"sm-cap\">v</span> West Indies\n",
              " </td>\n",
              " <td>\n",
              " Jun 27, 2019\n",
              " </td>\n",
              " </tr>\n",
              "  <tr>\n",
              " <td>\n",
              " 1(10)  \n",
              " </td>\n",
              " <td>\n",
              "  - \n",
              " </td>\n",
              " <td>\n",
              " <span class=\"sm-cap\">v</span> Afghanistan\n",
              " </td>\n",
              " <td>\n",
              " Jun 22, 2019\n",
              " </td>\n",
              " </tr>\n",
              " \n",
              " </tbody>\n",
              " </table>\n",
              " </div>]"
            ]
          },
          "metadata": {
            "tags": []
          },
          "execution_count": 7
        }
      ]
    },
    {
      "cell_type": "code",
      "metadata": {
        "id": "rseorJCr6x_Q",
        "colab_type": "code",
        "colab": {}
      },
      "source": [
        "require_data=[]\n",
        "for divtag in soup.find_all('div',{\"data-id\":'2'}):\n",
        "  for trtag in divtag.find_all('td'):\n",
        "    require_data.append(trtag.get_text())"
      ],
      "execution_count": 0,
      "outputs": []
    },
    {
      "cell_type": "code",
      "metadata": {
        "id": "43lwEuRq63Aw",
        "colab_type": "code",
        "outputId": "f02e272f-6f60-4193-914c-cc925939ac47",
        "colab": {
          "base_uri": "https://localhost:8080/",
          "height": 353
        }
      },
      "source": [
        "require_data"
      ],
      "execution_count": 9,
      "outputs": [
        {
          "output_type": "execute_result",
          "data": {
            "text/plain": [
              "['\\n103(94)  \\n',\n",
              " '\\n - \\n',\n",
              " '\\nv Sri Lanka\\n',\n",
              " '\\nJul 06, 2019\\n',\n",
              " '\\n104(92)  \\n',\n",
              " '\\n - \\n',\n",
              " '\\nv Bangladesh\\n',\n",
              " '\\nJul 02, 2019\\n',\n",
              " '\\n102(109)  \\n',\n",
              " '\\n - \\n',\n",
              " '\\nv England\\n',\n",
              " '\\nJun 30, 2019\\n',\n",
              " '\\n18(23)  \\n',\n",
              " '\\n - \\n',\n",
              " '\\nv West Indies\\n',\n",
              " '\\nJun 27, 2019\\n',\n",
              " '\\n1(10)  \\n',\n",
              " '\\n - \\n',\n",
              " '\\nv Afghanistan\\n',\n",
              " '\\nJun 22, 2019\\n']"
            ]
          },
          "metadata": {
            "tags": []
          },
          "execution_count": 9
        }
      ]
    },
    {
      "cell_type": "code",
      "metadata": {
        "id": "TAInGXd17HkE",
        "colab_type": "code",
        "colab": {}
      },
      "source": [
        "#create list\n",
        "list=[]\n",
        "for i in require_data:\n",
        "  x=i.replace('\\n',' ')\n",
        "  list.append(x)"
      ],
      "execution_count": 0,
      "outputs": []
    },
    {
      "cell_type": "code",
      "metadata": {
        "id": "kUQtKxJU_zNa",
        "colab_type": "code",
        "outputId": "4ffc6b84-dfdc-4e39-8145-b2b1b55afd75",
        "colab": {
          "base_uri": "https://localhost:8080/",
          "height": 353
        }
      },
      "source": [
        "list"
      ],
      "execution_count": 12,
      "outputs": [
        {
          "output_type": "execute_result",
          "data": {
            "text/plain": [
              "[' 103(94)   ',\n",
              " '  -  ',\n",
              " ' v Sri Lanka ',\n",
              " ' Jul 06, 2019 ',\n",
              " ' 104(92)   ',\n",
              " '  -  ',\n",
              " ' v Bangladesh ',\n",
              " ' Jul 02, 2019 ',\n",
              " ' 102(109)   ',\n",
              " '  -  ',\n",
              " ' v England ',\n",
              " ' Jun 30, 2019 ',\n",
              " ' 18(23)   ',\n",
              " '  -  ',\n",
              " ' v West Indies ',\n",
              " ' Jun 27, 2019 ',\n",
              " ' 1(10)   ',\n",
              " '  -  ',\n",
              " ' v Afghanistan ',\n",
              " ' Jun 22, 2019 ']"
            ]
          },
          "metadata": {
            "tags": []
          },
          "execution_count": 12
        }
      ]
    },
    {
      "cell_type": "code",
      "metadata": {
        "id": "EUhNolGsSifN",
        "colab_type": "code",
        "outputId": "a1c108cd-0e7c-466f-c82e-6d1269903dea",
        "colab": {
          "base_uri": "https://localhost:8080/",
          "height": 34
        }
      },
      "source": [
        "run_ball_list=[list[0],list[4],list[8],list[12],list[16]]\n",
        "run_ball_list\n"
      ],
      "execution_count": 13,
      "outputs": [
        {
          "output_type": "execute_result",
          "data": {
            "text/plain": [
              "[' 103(94)   ', ' 104(92)   ', ' 102(109)   ', ' 18(23)   ', ' 1(10)   ']"
            ]
          },
          "metadata": {
            "tags": []
          },
          "execution_count": 13
        }
      ]
    },
    {
      "cell_type": "code",
      "metadata": {
        "id": "Y4CPSN2nSiT8",
        "colab_type": "code",
        "outputId": "398c5411-324d-43c3-a6d1-a7859c16be15",
        "colab": {
          "base_uri": "https://localhost:8080/",
          "height": 34
        }
      },
      "source": [
        "bowllist=[list[1],list[5],list[9],list[13],list[17]]\n",
        "bowllist"
      ],
      "execution_count": 14,
      "outputs": [
        {
          "output_type": "execute_result",
          "data": {
            "text/plain": [
              "['  -  ', '  -  ', '  -  ', '  -  ', '  -  ']"
            ]
          },
          "metadata": {
            "tags": []
          },
          "execution_count": 14
        }
      ]
    },
    {
      "cell_type": "code",
      "metadata": {
        "id": "PycezA7zTmo2",
        "colab_type": "code",
        "outputId": "32ddac25-220f-448d-d309-230fc8a62789",
        "colab": {
          "base_uri": "https://localhost:8080/",
          "height": 101
        }
      },
      "source": [
        "\n",
        "opposite_team_list=[list[2],list[6],list[10],list[14],list[18]]\n",
        "opposite_team_list"
      ],
      "execution_count": 15,
      "outputs": [
        {
          "output_type": "execute_result",
          "data": {
            "text/plain": [
              "[' v Sri Lanka ',\n",
              " ' v Bangladesh ',\n",
              " ' v England ',\n",
              " ' v West Indies ',\n",
              " ' v Afghanistan ']"
            ]
          },
          "metadata": {
            "tags": []
          },
          "execution_count": 15
        }
      ]
    },
    {
      "cell_type": "code",
      "metadata": {
        "id": "pem8uvVbTmlg",
        "colab_type": "code",
        "outputId": "05f2e948-9979-4419-d480-141a058c8ca9",
        "colab": {
          "base_uri": "https://localhost:8080/",
          "height": 101
        }
      },
      "source": [
        "datelist=[list[3],list[7],list[11],list[15],list[19]]\n",
        "datelist"
      ],
      "execution_count": 16,
      "outputs": [
        {
          "output_type": "execute_result",
          "data": {
            "text/plain": [
              "[' Jul 06, 2019 ',\n",
              " ' Jul 02, 2019 ',\n",
              " ' Jun 30, 2019 ',\n",
              " ' Jun 27, 2019 ',\n",
              " ' Jun 22, 2019 ']"
            ]
          },
          "metadata": {
            "tags": []
          },
          "execution_count": 16
        }
      ]
    },
    {
      "cell_type": "code",
      "metadata": {
        "id": "zBQji6iCABqG",
        "colab_type": "code",
        "colab": {}
      },
      "source": [
        "import pandas as pd"
      ],
      "execution_count": 0,
      "outputs": []
    },
    {
      "cell_type": "code",
      "metadata": {
        "id": "6VfNcsW0XU6A",
        "colab_type": "code",
        "outputId": "35074bef-a727-4c58-9be9-e319e4a27119",
        "colab": {
          "base_uri": "https://localhost:8080/",
          "height": 195
        }
      },
      "source": [
        "df=pd.DataFrame({'Batting':run_ball_list,'Bowling':bowllist,'Opposition':opposite_team_list,'MatchDate':datelist})\n",
        "df"
      ],
      "execution_count": 18,
      "outputs": [
        {
          "output_type": "execute_result",
          "data": {
            "text/html": [
              "<div>\n",
              "<style scoped>\n",
              "    .dataframe tbody tr th:only-of-type {\n",
              "        vertical-align: middle;\n",
              "    }\n",
              "\n",
              "    .dataframe tbody tr th {\n",
              "        vertical-align: top;\n",
              "    }\n",
              "\n",
              "    .dataframe thead th {\n",
              "        text-align: right;\n",
              "    }\n",
              "</style>\n",
              "<table border=\"1\" class=\"dataframe\">\n",
              "  <thead>\n",
              "    <tr style=\"text-align: right;\">\n",
              "      <th></th>\n",
              "      <th>Batting</th>\n",
              "      <th>Bowling</th>\n",
              "      <th>Opposition</th>\n",
              "      <th>MatchDate</th>\n",
              "    </tr>\n",
              "  </thead>\n",
              "  <tbody>\n",
              "    <tr>\n",
              "      <th>0</th>\n",
              "      <td>103(94)</td>\n",
              "      <td>-</td>\n",
              "      <td>v Sri Lanka</td>\n",
              "      <td>Jul 06, 2019</td>\n",
              "    </tr>\n",
              "    <tr>\n",
              "      <th>1</th>\n",
              "      <td>104(92)</td>\n",
              "      <td>-</td>\n",
              "      <td>v Bangladesh</td>\n",
              "      <td>Jul 02, 2019</td>\n",
              "    </tr>\n",
              "    <tr>\n",
              "      <th>2</th>\n",
              "      <td>102(109)</td>\n",
              "      <td>-</td>\n",
              "      <td>v England</td>\n",
              "      <td>Jun 30, 2019</td>\n",
              "    </tr>\n",
              "    <tr>\n",
              "      <th>3</th>\n",
              "      <td>18(23)</td>\n",
              "      <td>-</td>\n",
              "      <td>v West Indies</td>\n",
              "      <td>Jun 27, 2019</td>\n",
              "    </tr>\n",
              "    <tr>\n",
              "      <th>4</th>\n",
              "      <td>1(10)</td>\n",
              "      <td>-</td>\n",
              "      <td>v Afghanistan</td>\n",
              "      <td>Jun 22, 2019</td>\n",
              "    </tr>\n",
              "  </tbody>\n",
              "</table>\n",
              "</div>"
            ],
            "text/plain": [
              "        Batting Bowling       Opposition       MatchDate\n",
              "0    103(94)        -       v Sri Lanka    Jul 06, 2019 \n",
              "1    104(92)        -      v Bangladesh    Jul 02, 2019 \n",
              "2   102(109)        -         v England    Jun 30, 2019 \n",
              "3     18(23)        -     v West Indies    Jun 27, 2019 \n",
              "4      1(10)        -     v Afghanistan    Jun 22, 2019 "
            ]
          },
          "metadata": {
            "tags": []
          },
          "execution_count": 18
        }
      ]
    },
    {
      "cell_type": "code",
      "metadata": {
        "id": "CuMZGs9-RQHg",
        "colab_type": "code",
        "colab": {}
      },
      "source": [
        "import numpy as np"
      ],
      "execution_count": 0,
      "outputs": []
    },
    {
      "cell_type": "code",
      "metadata": {
        "id": "3RJW6uX_nAim",
        "colab_type": "code",
        "outputId": "d9c8f46d-83c4-4f8a-ca8e-2ff6f75430db",
        "colab": {
          "base_uri": "https://localhost:8080/",
          "height": 50
        }
      },
      "source": [
        "x=df.iloc[:,0].values\n",
        "x"
      ],
      "execution_count": 20,
      "outputs": [
        {
          "output_type": "execute_result",
          "data": {
            "text/plain": [
              "array([' 103(94)   ', ' 104(92)   ', ' 102(109)   ', ' 18(23)   ',\n",
              "       ' 1(10)   '], dtype=object)"
            ]
          },
          "metadata": {
            "tags": []
          },
          "execution_count": 20
        }
      ]
    },
    {
      "cell_type": "code",
      "metadata": {
        "id": "cQFOg4yeortb",
        "colab_type": "code",
        "outputId": "84866c3a-df74-4511-c889-4ba3f545a0b2",
        "colab": {
          "base_uri": "https://localhost:8080/",
          "height": 34
        }
      },
      "source": [
        "#split data\n",
        "x[0].split('(')[0]"
      ],
      "execution_count": 21,
      "outputs": [
        {
          "output_type": "execute_result",
          "data": {
            "text/plain": [
              "' 103'"
            ]
          },
          "metadata": {
            "tags": []
          },
          "execution_count": 21
        }
      ]
    },
    {
      "cell_type": "code",
      "metadata": {
        "id": "Cotup3A4o8hi",
        "colab_type": "code",
        "colab": {}
      },
      "source": [
        "run=[]\n",
        "for i in x:\n",
        "  run.append(i.split('(')[0])\n",
        "  "
      ],
      "execution_count": 0,
      "outputs": []
    },
    {
      "cell_type": "code",
      "metadata": {
        "id": "RB8I51fbpGuE",
        "colab_type": "code",
        "outputId": "1d5d4c15-ae57-41e6-e68f-09e0f2238a7f",
        "colab": {
          "base_uri": "https://localhost:8080/",
          "height": 34
        }
      },
      "source": [
        "run"
      ],
      "execution_count": 23,
      "outputs": [
        {
          "output_type": "execute_result",
          "data": {
            "text/plain": [
              "[' 103', ' 104', ' 102', ' 18', ' 1']"
            ]
          },
          "metadata": {
            "tags": []
          },
          "execution_count": 23
        }
      ]
    },
    {
      "cell_type": "code",
      "metadata": {
        "id": "JrCWjYyvuaK2",
        "colab_type": "code",
        "outputId": "8fc94094-9fbc-4052-9bbb-ea9dd7798d93",
        "colab": {
          "base_uri": "https://localhost:8080/",
          "height": 34
        }
      },
      "source": [
        "#split data\n",
        "x[0].split('(')[1].replace(')',' ')"
      ],
      "execution_count": 24,
      "outputs": [
        {
          "output_type": "execute_result",
          "data": {
            "text/plain": [
              "'94    '"
            ]
          },
          "metadata": {
            "tags": []
          },
          "execution_count": 24
        }
      ]
    },
    {
      "cell_type": "code",
      "metadata": {
        "id": "tr3wdTlFuFel",
        "colab_type": "code",
        "colab": {}
      },
      "source": [
        "ball=[]\n",
        "for i in x:\n",
        "  ball.append(i.split('(')[1].replace(')',' '))\n",
        "  "
      ],
      "execution_count": 0,
      "outputs": []
    },
    {
      "cell_type": "code",
      "metadata": {
        "id": "9r4p_yMsuNmy",
        "colab_type": "code",
        "outputId": "748013fa-060a-4762-8f07-4768dcb38fea",
        "colab": {
          "base_uri": "https://localhost:8080/",
          "height": 34
        }
      },
      "source": [
        "ball"
      ],
      "execution_count": 26,
      "outputs": [
        {
          "output_type": "execute_result",
          "data": {
            "text/plain": [
              "['94    ', '92    ', '109    ', '23    ', '10    ']"
            ]
          },
          "metadata": {
            "tags": []
          },
          "execution_count": 26
        }
      ]
    },
    {
      "cell_type": "code",
      "metadata": {
        "id": "75TZZiWluOY-",
        "colab_type": "code",
        "outputId": "f84d5607-3519-48eb-fa36-dbc545734edb",
        "colab": {
          "base_uri": "https://localhost:8080/",
          "height": 195
        }
      },
      "source": [
        "df=pd.DataFrame({'Batting':run_ball_list,'Bowling':bowllist,'Opposition':opposite_team_list,'MatchDate':datelist,'Run':run,'Ball':ball})\n",
        "df"
      ],
      "execution_count": 28,
      "outputs": [
        {
          "output_type": "execute_result",
          "data": {
            "text/html": [
              "<div>\n",
              "<style scoped>\n",
              "    .dataframe tbody tr th:only-of-type {\n",
              "        vertical-align: middle;\n",
              "    }\n",
              "\n",
              "    .dataframe tbody tr th {\n",
              "        vertical-align: top;\n",
              "    }\n",
              "\n",
              "    .dataframe thead th {\n",
              "        text-align: right;\n",
              "    }\n",
              "</style>\n",
              "<table border=\"1\" class=\"dataframe\">\n",
              "  <thead>\n",
              "    <tr style=\"text-align: right;\">\n",
              "      <th></th>\n",
              "      <th>Batting</th>\n",
              "      <th>Bowling</th>\n",
              "      <th>Opposition</th>\n",
              "      <th>MatchDate</th>\n",
              "      <th>Run</th>\n",
              "      <th>Ball</th>\n",
              "    </tr>\n",
              "  </thead>\n",
              "  <tbody>\n",
              "    <tr>\n",
              "      <th>0</th>\n",
              "      <td>103(94)</td>\n",
              "      <td>-</td>\n",
              "      <td>v Sri Lanka</td>\n",
              "      <td>Jul 06, 2019</td>\n",
              "      <td>103</td>\n",
              "      <td>94</td>\n",
              "    </tr>\n",
              "    <tr>\n",
              "      <th>1</th>\n",
              "      <td>104(92)</td>\n",
              "      <td>-</td>\n",
              "      <td>v Bangladesh</td>\n",
              "      <td>Jul 02, 2019</td>\n",
              "      <td>104</td>\n",
              "      <td>92</td>\n",
              "    </tr>\n",
              "    <tr>\n",
              "      <th>2</th>\n",
              "      <td>102(109)</td>\n",
              "      <td>-</td>\n",
              "      <td>v England</td>\n",
              "      <td>Jun 30, 2019</td>\n",
              "      <td>102</td>\n",
              "      <td>109</td>\n",
              "    </tr>\n",
              "    <tr>\n",
              "      <th>3</th>\n",
              "      <td>18(23)</td>\n",
              "      <td>-</td>\n",
              "      <td>v West Indies</td>\n",
              "      <td>Jun 27, 2019</td>\n",
              "      <td>18</td>\n",
              "      <td>23</td>\n",
              "    </tr>\n",
              "    <tr>\n",
              "      <th>4</th>\n",
              "      <td>1(10)</td>\n",
              "      <td>-</td>\n",
              "      <td>v Afghanistan</td>\n",
              "      <td>Jun 22, 2019</td>\n",
              "      <td>1</td>\n",
              "      <td>10</td>\n",
              "    </tr>\n",
              "  </tbody>\n",
              "</table>\n",
              "</div>"
            ],
            "text/plain": [
              "        Batting Bowling       Opposition       MatchDate   Run     Ball\n",
              "0    103(94)        -       v Sri Lanka    Jul 06, 2019    103   94    \n",
              "1    104(92)        -      v Bangladesh    Jul 02, 2019    104   92    \n",
              "2   102(109)        -         v England    Jun 30, 2019    102  109    \n",
              "3     18(23)        -     v West Indies    Jun 27, 2019     18   23    \n",
              "4      1(10)        -     v Afghanistan    Jun 22, 2019      1   10    "
            ]
          },
          "metadata": {
            "tags": []
          },
          "execution_count": 28
        }
      ]
    },
    {
      "cell_type": "markdown",
      "metadata": {
        "id": "wUzF5ugsxxZI",
        "colab_type": "text"
      },
      "source": [
        "#**linear regression**"
      ]
    },
    {
      "cell_type": "code",
      "metadata": {
        "id": "vaWiloCCv0Lc",
        "colab_type": "code",
        "colab": {}
      },
      "source": [
        "from sklearn.linear_model import LinearRegression"
      ],
      "execution_count": 0,
      "outputs": []
    },
    {
      "cell_type": "code",
      "metadata": {
        "id": "GYPjD0C8yEOA",
        "colab_type": "code",
        "colab": {}
      },
      "source": [
        "#call linear regression\n",
        "regr=LinearRegression()"
      ],
      "execution_count": 0,
      "outputs": []
    },
    {
      "cell_type": "code",
      "metadata": {
        "id": "zUCfzYwwylUS",
        "colab_type": "code",
        "colab": {}
      },
      "source": [
        "#run\n",
        "r=df.iloc[:,4:5].values\n",
        "r=r.astype(int)"
      ],
      "execution_count": 0,
      "outputs": []
    },
    {
      "cell_type": "code",
      "metadata": {
        "id": "IvVqzXoJylKg",
        "colab_type": "code",
        "colab": {}
      },
      "source": [
        "#ball\n",
        "b=df.iloc[:,5].values\n",
        "b=b.astype(int)"
      ],
      "execution_count": 0,
      "outputs": []
    },
    {
      "cell_type": "code",
      "metadata": {
        "id": "b7VhpZJoyLj1",
        "colab_type": "code",
        "colab": {}
      },
      "source": [
        "#trained data\n",
        "trained=regr.fit(r,b)"
      ],
      "execution_count": 0,
      "outputs": []
    },
    {
      "cell_type": "code",
      "metadata": {
        "id": "0cSOSYaQza1Z",
        "colab_type": "code",
        "outputId": "02431f8a-8008-4c64-9fed-418fff22cc2c",
        "colab": {
          "base_uri": "https://localhost:8080/",
          "height": 34
        }
      },
      "source": [
        "b"
      ],
      "execution_count": 34,
      "outputs": [
        {
          "output_type": "execute_result",
          "data": {
            "text/plain": [
              "array([ 94,  92, 109,  23,  10])"
            ]
          },
          "metadata": {
            "tags": []
          },
          "execution_count": 34
        }
      ]
    },
    {
      "cell_type": "code",
      "metadata": {
        "id": "zjgzV2BByWAf",
        "colab_type": "code",
        "colab": {}
      },
      "source": [
        "import matplotlib.pyplot as plt"
      ],
      "execution_count": 0,
      "outputs": []
    },
    {
      "cell_type": "code",
      "metadata": {
        "id": "zj8omizay6jX",
        "colab_type": "code",
        "outputId": "8714df01-4333-4de4-90f0-fd90ec996824",
        "colab": {
          "base_uri": "https://localhost:8080/",
          "height": 283
        }
      },
      "source": [
        "plt.xlabel(\"ball\")\n",
        "plt.ylabel(\"run\")\n",
        "plt.scatter(r,b,label=\"actual data as per run\")\n",
        "plt.plot(r,trained.predict(r),label=\"predicted ball\")\n",
        "plt.legend()\n",
        "plt.show()"
      ],
      "execution_count": 36,
      "outputs": [
        {
          "output_type": "display_data",
          "data": {
            "image/png": "[encoded data removed]",
            "text/plain": [
              "<Figure size 432x288 with 1 Axes>"
            ]
          },
          "metadata": {
            "tags": []
          }
        }
      ]
    },
    {
      "cell_type": "code",
      "metadata": {
        "id": "1EOah_t0zWm1",
        "colab_type": "code",
        "colab": {}
      },
      "source": [
        "e"
      ],
      "execution_count": 0,
      "outputs": []
    }
  ]
}