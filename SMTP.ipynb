{
  "nbformat": 4,
  "nbformat_minor": 0,
  "metadata": {
    "colab": {
      "name": "SMTP.ipynb",
      "version": "0.3.2",
      "provenance": [],
      "collapsed_sections": []
    },
    "kernelspec": {
      "name": "python3",
      "display_name": "Python 3"
    }
  },
  "cells": [
    {
      "cell_type": "code",
      "metadata": {
        "id": "6sMiRywhbhUu",
        "colab_type": "code",
        "colab": {}
      },
      "source": [
        "import poplib\n",
        "mailServer = 'pop.gmail.com'\n",
        "emailID = 'xxxxx'\n",
        "emailPass ='hgctr'"
      ],
      "execution_count": 0,
      "outputs": []
    },
    {
      "cell_type": "code",
      "metadata": {
        "id": "FLLF-tG2br78",
        "colab_type": "code",
        "colab": {}
      },
      "source": [
        "\n",
        "## open connection to mail server (Secured using SSL)\n",
        "myEmailConnection = poplib.POP3_SSL(mailServer)\n"
      ],
      "execution_count": 0,
      "outputs": []
    },
    {
      "cell_type": "code",
      "metadata": {
        "id": "51RTUVOobwgA",
        "colab_type": "code",
        "outputId": "45efe2cc-54cc-49c1-bad0-bcd6b8717680",
        "colab": {
          "base_uri": "https://localhost:8080/",
          "height": 34
        }
      },
      "source": [
        "## print the response message from server\n",
        "print(myEmailConnection.getwelcome())\n"
      ],
      "execution_count": 0,
      "outputs": [
        {
          "output_type": "stream",
          "text": [
            "b'+OK Gpop ready for requests from 34.73.83.118 70mb101228327uac'\n"
          ],
          "name": "stdout"
        }
      ]
    },
    {
      "cell_type": "code",
      "metadata": {
        "id": "vbZj7UhibxCf",
        "colab_type": "code",
        "colab": {}
      },
      "source": [
        "## set email address\n",
        "myEmailConnection.user(emailID)\n",
        "## set password \n",
        "myEmailConnection.pass_(emailPass)\n",
        "## get information about the email address\n",
        "EmailInformation = myEmailConnection.stat()\n",
        "print(\"Number of new emails: %s (%s bytes)\" % EmailInformation)\n",
        "## Reading an email\n",
        "print(\"\\n\\n===\\nRead messages\\n===\\n\\n\")\n",
        " \n",
        "## Read all emails\n",
        "numberofmails = EmailInformation[0]\n",
        "for i in range(numberofmails):\n",
        "    for email in myEmailConnection.retr(i+1)[1]:\n",
        "        print(email)"
      ],
      "execution_count": 0,
      "outputs": []
    },
    {
      "cell_type": "code",
      "metadata": {
        "id": "GiFcWwl4by8s",
        "colab_type": "code",
        "colab": {}
      },
      "source": [
        ""
      ],
      "execution_count": 0,
      "outputs": []
    }
  ]
}