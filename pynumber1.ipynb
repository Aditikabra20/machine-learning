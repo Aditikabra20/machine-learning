{
  "nbformat": 4,
  "nbformat_minor": 0,
  "metadata": {
    "colab": {
      "name": "pynumber1.ipynb",
      "version": "0.3.2",
      "provenance": [],
      "collapsed_sections": [],
      "include_colab_link": true
    },
    "kernelspec": {
      "name": "python3",
      "display_name": "Python 3"
    }
  },
  "cells": [
    {
      "cell_type": "markdown",
      "metadata": {
        "id": "view-in-github",
        "colab_type": "text"
      },
      "source": [
        "<a href=\"https://colab.research.google.com/github/Aditikabra20/machine-learning/blob/master/pynumber1.ipynb\" target=\"_parent\"><img src=\"https://colab.research.google.com/assets/colab-badge.svg\" alt=\"Open In Colab\"/></a>"
      ]
    },
    {
      "cell_type": "code",
      "metadata": {
        "id": "EfeEjuCfyF_i",
        "colab_type": "code",
        "colab": {}
      },
      "source": [
        "import numpy as np"
      ],
      "execution_count": 0,
      "outputs": []
    },
    {
      "cell_type": "code",
      "metadata": {
        "id": "bsLEUHBFyIh8",
        "colab_type": "code",
        "outputId": "836eefd9-8f8d-404f-8ce7-d4c06ac034bd",
        "colab": {
          "base_uri": "https://localhost:8080/",
          "height": 50
        }
      },
      "source": [
        "m=int(input(\"no of rows :\"))\n",
        "n=int(input(\"no of columns :\"))"
      ],
      "execution_count": 0,
      "outputs": [
        {
          "output_type": "stream",
          "text": [
            "no of rows :3\n",
            "no of columns :10\n"
          ],
          "name": "stdout"
        }
      ]
    },
    {
      "cell_type": "code",
      "metadata": {
        "id": "nNGG1HCZy_SK",
        "colab_type": "code",
        "colab": {}
      },
      "source": [
        "a=np.random.random((m,n))"
      ],
      "execution_count": 0,
      "outputs": []
    },
    {
      "cell_type": "code",
      "metadata": {
        "id": "svV_KlEWzKJj",
        "colab_type": "code",
        "outputId": "14b0692c-a3b7-4bca-99e2-2bb9dba6c734",
        "colab": {
          "base_uri": "https://localhost:8080/",
          "height": 118
        }
      },
      "source": [
        "a"
      ],
      "execution_count": 0,
      "outputs": [
        {
          "output_type": "execute_result",
          "data": {
            "text/plain": [
              "array([[0.07613501, 0.76075457, 0.48186176, 0.00711543, 0.2373235 ,\n",
              "        0.82900533, 0.75500327, 0.59576284, 0.26679736, 0.61233176],\n",
              "       [0.25124613, 0.51809296, 0.47839016, 0.09283891, 0.58740713,\n",
              "        0.24003732, 0.79044318, 0.70850259, 0.5732838 , 0.40718534],\n",
              "       [0.24053134, 0.75137999, 0.69609318, 0.63853924, 0.08909275,\n",
              "        0.56934487, 0.98022546, 0.36069086, 0.2739892 , 0.57796789]])"
            ]
          },
          "metadata": {
            "tags": []
          },
          "execution_count": 12
        }
      ]
    },
    {
      "cell_type": "code",
      "metadata": {
        "id": "l4HrE0hizowC",
        "colab_type": "code",
        "colab": {}
      },
      "source": [
        "np.savetxt('a.txt',a)\n",
        "y=np.loadtxt('a.txt')"
      ],
      "execution_count": 0,
      "outputs": []
    },
    {
      "cell_type": "code",
      "metadata": {
        "id": "J6zFmQd--1yM",
        "colab_type": "code",
        "outputId": "0c09b186-5bb6-4b5c-80c2-57c0393c9a86",
        "colab": {
          "base_uri": "https://localhost:8080/",
          "height": 118
        }
      },
      "source": [
        "y"
      ],
      "execution_count": 0,
      "outputs": [
        {
          "output_type": "execute_result",
          "data": {
            "text/plain": [
              "array([[0.07613501, 0.76075457, 0.48186176, 0.00711543, 0.2373235 ,\n",
              "        0.82900533, 0.75500327, 0.59576284, 0.26679736, 0.61233176],\n",
              "       [0.25124613, 0.51809296, 0.47839016, 0.09283891, 0.58740713,\n",
              "        0.24003732, 0.79044318, 0.70850259, 0.5732838 , 0.40718534],\n",
              "       [0.24053134, 0.75137999, 0.69609318, 0.63853924, 0.08909275,\n",
              "        0.56934487, 0.98022546, 0.36069086, 0.2739892 , 0.57796789]])"
            ]
          },
          "metadata": {
            "tags": []
          },
          "execution_count": 18
        }
      ]
    },
    {
      "cell_type": "code",
      "metadata": {
        "id": "BVAycbzr_J-e",
        "colab_type": "code",
        "colab": {}
      },
      "source": [
        ""
      ],
      "execution_count": 0,
      "outputs": []
    }
  ]
}