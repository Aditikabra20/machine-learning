{
  "nbformat": 4,
  "nbformat_minor": 0,
  "metadata": {
    "colab": {
      "name": "dv1.ipynb",
      "version": "0.3.2",
      "provenance": [],
      "collapsed_sections": [],
      "include_colab_link": true
    },
    "kernelspec": {
      "name": "python3",
      "display_name": "Python 3"
    }
  },
  "cells": [
    {
      "cell_type": "markdown",
      "metadata": {
        "id": "view-in-github",
        "colab_type": "text"
      },
      "source": [
        "<a href=\"https://colab.research.google.com/github/Aditikabra20/machine-learning/blob/master/dv1.ipynb\" target=\"_parent\"><img src=\"https://colab.research.google.com/assets/colab-badge.svg\" alt=\"Open In Colab\"/></a>"
      ]
    },
    {
      "cell_type": "code",
      "metadata": {
        "id": "xDdnjLFvGMqf",
        "colab_type": "code",
        "colab": {}
      },
      "source": [
        "import matplotlib.pyplot as plt\n",
        "import numpy as np\n",
        "import csv\n",
        "import pandas as pd"
      ],
      "execution_count": 0,
      "outputs": []
    },
    {
      "cell_type": "code",
      "metadata": {
        "id": "sxAuFq1HSY9H",
        "colab_type": "code",
        "colab": {}
      },
      "source": [
        "with open('student.csv','w') as csvFile:\n",
        "   writer = csv.writer(csvFile)\n",
        "   writer.writerows(a)\n",
        "\n",
        "csvFile.close()"
      ],
      "execution_count": 0,
      "outputs": []
    },
    {
      "cell_type": "code",
      "metadata": {
        "id": "67ijzCfNSd_3",
        "colab_type": "code",
        "outputId": "27d7f836-7b95-486a-e2d4-282a40a70579",
        "colab": {
          "base_uri": "https://localhost:8080/",
          "height": 166
        }
      },
      "source": [
        "df=pd.read_csv('student.csv')\n",
        "df"
      ],
      "execution_count": 8,
      "outputs": [
        {
          "output_type": "execute_result",
          "data": {
            "text/html": [
              "<div>\n",
              "<style scoped>\n",
              "    .dataframe tbody tr th:only-of-type {\n",
              "        vertical-align: middle;\n",
              "    }\n",
              "\n",
              "    .dataframe tbody tr th {\n",
              "        vertical-align: top;\n",
              "    }\n",
              "\n",
              "    .dataframe thead th {\n",
              "        text-align: right;\n",
              "    }\n",
              "</style>\n",
              "<table border=\"1\" class=\"dataframe\">\n",
              "  <thead>\n",
              "    <tr style=\"text-align: right;\">\n",
              "      <th></th>\n",
              "      <th>student_name</th>\n",
              "      <th>marks</th>\n",
              "      <th>age</th>\n",
              "      <th>cantact_no</th>\n",
              "      <th>study_hour</th>\n",
              "    </tr>\n",
              "  </thead>\n",
              "  <tbody>\n",
              "    <tr>\n",
              "      <th>0</th>\n",
              "      <td>aditi</td>\n",
              "      <td>45</td>\n",
              "      <td>18</td>\n",
              "      <td>2348695984</td>\n",
              "      <td>5</td>\n",
              "    </tr>\n",
              "    <tr>\n",
              "      <th>1</th>\n",
              "      <td>adi</td>\n",
              "      <td>50</td>\n",
              "      <td>19</td>\n",
              "      <td>9365265784</td>\n",
              "      <td>6</td>\n",
              "    </tr>\n",
              "    <tr>\n",
              "      <th>2</th>\n",
              "      <td>naman</td>\n",
              "      <td>40</td>\n",
              "      <td>18</td>\n",
              "      <td>1234567895</td>\n",
              "      <td>7</td>\n",
              "    </tr>\n",
              "    <tr>\n",
              "      <th>3</th>\n",
              "      <td>tanu</td>\n",
              "      <td>60</td>\n",
              "      <td>19</td>\n",
              "      <td>9876543213</td>\n",
              "      <td>8</td>\n",
              "    </tr>\n",
              "  </tbody>\n",
              "</table>\n",
              "</div>"
            ],
            "text/plain": [
              "  student_name  marks  age  cantact_no  study_hour\n",
              "0        aditi     45   18  2348695984           5\n",
              "1          adi     50   19  9365265784           6\n",
              "2        naman     40   18  1234567895           7\n",
              "3         tanu     60   19  9876543213           8"
            ]
          },
          "metadata": {
            "tags": []
          },
          "execution_count": 8
        }
      ]
    },
    {
      "cell_type": "code",
      "metadata": {
        "id": "Rr4c4rXUbXM-",
        "colab_type": "code",
        "colab": {}
      },
      "source": [
        "a=np.array([['student_name','marks','age','cantact_no','study_hour'],['aditi',45,18,2348695984,5],['adi',50,19,9365265784,6],['naman',40,18,1234567895,7],['tanu',60,19,9876543213,8]])"
      ],
      "execution_count": 0,
      "outputs": []
    },
    {
      "cell_type": "code",
      "metadata": {
        "id": "E1hfhIj6b_cD",
        "colab_type": "code",
        "colab": {}
      },
      "source": [
        "name=df[\"student_name\"]"
      ],
      "execution_count": 0,
      "outputs": []
    },
    {
      "cell_type": "code",
      "metadata": {
        "id": "-m6RgzpreD3I",
        "colab_type": "code",
        "outputId": "b0078c8a-4e08-49d3-9e2c-cc70ebb70bab",
        "colab": {
          "base_uri": "https://localhost:8080/",
          "height": 101
        }
      },
      "source": [
        "name"
      ],
      "execution_count": 10,
      "outputs": [
        {
          "output_type": "execute_result",
          "data": {
            "text/plain": [
              "0    aditi\n",
              "1      adi\n",
              "2    naman\n",
              "3     tanu\n",
              "Name: student_name, dtype: object"
            ]
          },
          "metadata": {
            "tags": []
          },
          "execution_count": 10
        }
      ]
    },
    {
      "cell_type": "code",
      "metadata": {
        "id": "vkty2U_Meu5a",
        "colab_type": "code",
        "colab": {}
      },
      "source": [
        "marks=df[\"marks\"]"
      ],
      "execution_count": 0,
      "outputs": []
    },
    {
      "cell_type": "code",
      "metadata": {
        "id": "ED-yui7Wey0g",
        "colab_type": "code",
        "outputId": "c5ae3793-8461-4c17-f6c7-9b2fd85a3da0",
        "colab": {
          "base_uri": "https://localhost:8080/",
          "height": 101
        }
      },
      "source": [
        "marks"
      ],
      "execution_count": 12,
      "outputs": [
        {
          "output_type": "execute_result",
          "data": {
            "text/plain": [
              "0    45\n",
              "1    50\n",
              "2    40\n",
              "3    60\n",
              "Name: marks, dtype: int64"
            ]
          },
          "metadata": {
            "tags": []
          },
          "execution_count": 12
        }
      ]
    },
    {
      "cell_type": "code",
      "metadata": {
        "id": "ASu4_we5e0Ou",
        "colab_type": "code",
        "outputId": "aadbe877-b831-4c84-ba48-86c9068b55b4",
        "colab": {
          "base_uri": "https://localhost:8080/",
          "height": 390
        }
      },
      "source": [
        "plt.pie(marks,labels=name)"
      ],
      "execution_count": 13,
      "outputs": [
        {
          "output_type": "execute_result",
          "data": {
            "text/plain": [
              "([<matplotlib.patches.Wedge at 0x7fd9d9e240b8>,\n",
              "  <matplotlib.patches.Wedge at 0x7fd9d9e24588>,\n",
              "  <matplotlib.patches.Wedge at 0x7fd9d9e24a58>,\n",
              "  <matplotlib.patches.Wedge at 0x7fd9d9e24f28>],\n",
              " [Text(0.8233618203614949, 0.7294349270298247, 'aditi'),\n",
              "  Text(-0.695689958156831, 0.8520654212674911, 'adi'),\n",
              "  Text(-0.9297090312911747, -0.5879125080618933, 'naman'),\n",
              "  Text(0.6248713583220699, -0.9052821579754742, 'tanu')])"
            ]
          },
          "metadata": {
            "tags": []
          },
          "execution_count": 13
        },
        {
          "output_type": "display_data",
          "data": {
            "image/png": "[encoded data removed]",
            "text/plain": [
              "<Figure size 432x288 with 1 Axes>"
            ]
          },
          "metadata": {
            "tags": []
          }
        }
      ]
    },
    {
      "cell_type": "code",
      "metadata": {
        "id": "W6rIztkAfyqn",
        "colab_type": "code",
        "colab": {}
      },
      "source": [
        " age=df[\"age\"]"
      ],
      "execution_count": 0,
      "outputs": []
    },
    {
      "cell_type": "code",
      "metadata": {
        "id": "Q_2Fzg-xhe78",
        "colab_type": "code",
        "outputId": "30bfec55-e0c1-49c0-acf2-d5df18600264",
        "colab": {
          "base_uri": "https://localhost:8080/",
          "height": 101
        }
      },
      "source": [
        "age"
      ],
      "execution_count": 15,
      "outputs": [
        {
          "output_type": "execute_result",
          "data": {
            "text/plain": [
              "0    18\n",
              "1    19\n",
              "2    18\n",
              "3    19\n",
              "Name: age, dtype: int64"
            ]
          },
          "metadata": {
            "tags": []
          },
          "execution_count": 15
        }
      ]
    },
    {
      "cell_type": "code",
      "metadata": {
        "id": "9oeETBMohfbh",
        "colab_type": "code",
        "colab": {}
      },
      "source": [
        "studyhour=df[\"study_hour\"]"
      ],
      "execution_count": 0,
      "outputs": []
    },
    {
      "cell_type": "code",
      "metadata": {
        "id": "T3-W392ThkZV",
        "colab_type": "code",
        "outputId": "9c910161-17f9-4d85-8709-73d4a36fd9dd",
        "colab": {
          "base_uri": "https://localhost:8080/",
          "height": 101
        }
      },
      "source": [
        "studyhour"
      ],
      "execution_count": 17,
      "outputs": [
        {
          "output_type": "execute_result",
          "data": {
            "text/plain": [
              "0    5\n",
              "1    6\n",
              "2    7\n",
              "3    8\n",
              "Name: study_hour, dtype: int64"
            ]
          },
          "metadata": {
            "tags": []
          },
          "execution_count": 17
        }
      ]
    },
    {
      "cell_type": "code",
      "metadata": {
        "id": "DF6x5QMfhr1Q",
        "colab_type": "code",
        "outputId": "93b32103-3a4c-412b-8fa7-59086bf005ff",
        "colab": {
          "base_uri": "https://localhost:8080/",
          "height": 390
        }
      },
      "source": [
        "plt.pie(studyhour,labels=name)"
      ],
      "execution_count": 18,
      "outputs": [
        {
          "output_type": "execute_result",
          "data": {
            "text/plain": [
              "([<matplotlib.patches.Wedge at 0x7fd9d7585710>,\n",
              "  <matplotlib.patches.Wedge at 0x7fd9d7585c18>,\n",
              "  <matplotlib.patches.Wedge at 0x7fd9d758f128>,\n",
              "  <matplotlib.patches.Wedge at 0x7fd9d758f5f8>],\n",
              " [Text(0.9052822457324837, 0.6248712311841147, 'aditi'),\n",
              "  Text(-0.3900654016728485, 1.0285178571214986, 'adi'),\n",
              "  Text(-1.0285178388612182, -0.39006544982124397, 'naman'),\n",
              "  Text(0.6248713583220699, -0.9052821579754742, 'tanu')])"
            ]
          },
          "metadata": {
            "tags": []
          },
          "execution_count": 18
        },
        {
          "output_type": "display_data",
          "data": {
            "image/png": "[encoded data removed]",
            "text/plain": [
              "<Figure size 432x288 with 1 Axes>"
            ]
          },
          "metadata": {
            "tags": []
          }
        }
      ]
    },
    {
      "cell_type": "code",
      "metadata": {
        "id": "JvGvYD3Kjis6",
        "colab_type": "code",
        "colab": {}
      },
      "source": [
        "age=df['age']"
      ],
      "execution_count": 0,
      "outputs": []
    },
    {
      "cell_type": "code",
      "metadata": {
        "id": "EIZ8_K4GFmrp",
        "colab_type": "code",
        "colab": {
          "base_uri": "https://localhost:8080/",
          "height": 390
        },
        "outputId": "90a3141d-7473-4c35-f584-957d109a129a"
      },
      "source": [
        "plt.pie(age,labels=name)"
      ],
      "execution_count": 21,
      "outputs": [
        {
          "output_type": "execute_result",
          "data": {
            "text/plain": [
              "([<matplotlib.patches.Wedge at 0x7fd9d754e198>,\n",
              "  <matplotlib.patches.Wedge at 0x7fd9d754e6a0>,\n",
              "  <matplotlib.patches.Wedge at 0x7fd9d754eb70>,\n",
              "  <matplotlib.patches.Wedge at 0x7fd9d7558080>],\n",
              " [Text(0.794151693719924, 0.7611327659231182, 'aditi'),\n",
              "  Text(-0.7611327659231182, 0.794151693719924, 'adi'),\n",
              "  Text(-0.7941516937199241, -0.7611327659231182, 'naman'),\n",
              "  Text(0.7611327659231177, -0.7941516937199244, 'tanu')])"
            ]
          },
          "metadata": {
            "tags": []
          },
          "execution_count": 21
        },
        {
          "output_type": "display_data",
          "data": {
            "image/png": "[encoded data removed]",
            "text/plain": [
              "<Figure size 432x288 with 1 Axes>"
            ]
          },
          "metadata": {
            "tags": []
          }
        }
      ]
    }
  ]
}