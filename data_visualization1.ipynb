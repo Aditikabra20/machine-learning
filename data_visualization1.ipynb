{
  "nbformat": 4,
  "nbformat_minor": 0,
  "metadata": {
    "colab": {
      "name": "data_visualization1.ipynb",
      "version": "0.3.2",
      "provenance": [],
      "collapsed_sections": [],
      "include_colab_link": true
    },
    "kernelspec": {
      "name": "python3",
      "display_name": "Python 3"
    }
  },
  "cells": [
    {
      "cell_type": "markdown",
      "metadata": {
        "id": "view-in-github",
        "colab_type": "text"
      },
      "source": [
        "<a href=\"https://colab.research.google.com/github/Aditikabra20/machine-learning/blob/ml/data_visualization1.ipynb\" target=\"_parent\"><img src=\"https://colab.research.google.com/assets/colab-badge.svg\" alt=\"Open In Colab\"/></a>"
      ]
    },
    {
      "cell_type": "code",
      "metadata": {
        "id": "xDdnjLFvGMqf",
        "colab_type": "code",
        "colab": {}
      },
      "source": [
        "import matplotlib.pyplot as plt\n",
        "import numpy as np\n",
        "import csv\n",
        "import pandas as pd"
      ],
      "execution_count": 0,
      "outputs": []
    },
    {
      "cell_type": "code",
      "metadata": {
        "id": "m3EHCh5eM7AQ",
        "colab_type": "code",
        "colab": {}
      },
      "source": [
        "a=np.array([['student_name','marks','age','contact_no','study_hour'],['aditi',45,18,2348695984,5],['adi',50,19,9365265784,6],['naman',40,18,1234567895,7],['tanu',60,19,9876543213,8]])"
      ],
      "execution_count": 0,
      "outputs": []
    },
    {
      "cell_type": "code",
      "metadata": {
        "id": "sxAuFq1HSY9H",
        "colab_type": "code",
        "colab": {}
      },
      "source": [
        "with open('student.csv','w') as csvFile:\n",
        "   writer = csv.writer(csvFile)\n",
        "   writer.writerows(a)\n",
        "\n",
        "csvFile.close()"
      ],
      "execution_count": 0,
      "outputs": []
    },
    {
      "cell_type": "code",
      "metadata": {
        "id": "67ijzCfNSd_3",
        "colab_type": "code",
        "outputId": "afeae12e-5634-4d86-de5e-5575e5dcd2ba",
        "colab": {
          "base_uri": "https://localhost:8080/",
          "height": 166
        }
      },
      "source": [
        "df=pd.read_csv('student.csv')\n",
        "df"
      ],
      "execution_count": 19,
      "outputs": [
        {
          "output_type": "execute_result",
          "data": {
            "text/html": [
              "<div>\n",
              "<style scoped>\n",
              "    .dataframe tbody tr th:only-of-type {\n",
              "        vertical-align: middle;\n",
              "    }\n",
              "\n",
              "    .dataframe tbody tr th {\n",
              "        vertical-align: top;\n",
              "    }\n",
              "\n",
              "    .dataframe thead th {\n",
              "        text-align: right;\n",
              "    }\n",
              "</style>\n",
              "<table border=\"1\" class=\"dataframe\">\n",
              "  <thead>\n",
              "    <tr style=\"text-align: right;\">\n",
              "      <th></th>\n",
              "      <th>student_name</th>\n",
              "      <th>marks</th>\n",
              "      <th>age</th>\n",
              "      <th>contact_no</th>\n",
              "      <th>study_hour</th>\n",
              "    </tr>\n",
              "  </thead>\n",
              "  <tbody>\n",
              "    <tr>\n",
              "      <th>0</th>\n",
              "      <td>aditi</td>\n",
              "      <td>45</td>\n",
              "      <td>18</td>\n",
              "      <td>2348695984</td>\n",
              "      <td>5</td>\n",
              "    </tr>\n",
              "    <tr>\n",
              "      <th>1</th>\n",
              "      <td>adi</td>\n",
              "      <td>50</td>\n",
              "      <td>19</td>\n",
              "      <td>9365265784</td>\n",
              "      <td>6</td>\n",
              "    </tr>\n",
              "    <tr>\n",
              "      <th>2</th>\n",
              "      <td>naman</td>\n",
              "      <td>40</td>\n",
              "      <td>18</td>\n",
              "      <td>1234567895</td>\n",
              "      <td>7</td>\n",
              "    </tr>\n",
              "    <tr>\n",
              "      <th>3</th>\n",
              "      <td>tanu</td>\n",
              "      <td>60</td>\n",
              "      <td>19</td>\n",
              "      <td>9876543213</td>\n",
              "      <td>8</td>\n",
              "    </tr>\n",
              "  </tbody>\n",
              "</table>\n",
              "</div>"
            ],
            "text/plain": [
              "  student_name  marks  age  contact_no  study_hour\n",
              "0        aditi     45   18  2348695984           5\n",
              "1          adi     50   19  9365265784           6\n",
              "2        naman     40   18  1234567895           7\n",
              "3         tanu     60   19  9876543213           8"
            ]
          },
          "metadata": {
            "tags": []
          },
          "execution_count": 19
        }
      ]
    },
    {
      "cell_type": "code",
      "metadata": {
        "id": "E1hfhIj6b_cD",
        "colab_type": "code",
        "colab": {}
      },
      "source": [
        "name=df[\"student_name\"]"
      ],
      "execution_count": 0,
      "outputs": []
    },
    {
      "cell_type": "code",
      "metadata": {
        "id": "-m6RgzpreD3I",
        "colab_type": "code",
        "outputId": "19959103-934f-4e80-b570-1ad49391f61a",
        "colab": {
          "base_uri": "https://localhost:8080/",
          "height": 101
        }
      },
      "source": [
        "name"
      ],
      "execution_count": 6,
      "outputs": [
        {
          "output_type": "execute_result",
          "data": {
            "text/plain": [
              "0    aditi\n",
              "1      adi\n",
              "2    naman\n",
              "3     tanu\n",
              "Name: student_name, dtype: object"
            ]
          },
          "metadata": {
            "tags": []
          },
          "execution_count": 6
        }
      ]
    },
    {
      "cell_type": "code",
      "metadata": {
        "id": "vkty2U_Meu5a",
        "colab_type": "code",
        "colab": {}
      },
      "source": [
        "marks=df[\"marks\"]"
      ],
      "execution_count": 0,
      "outputs": []
    },
    {
      "cell_type": "code",
      "metadata": {
        "id": "ED-yui7Wey0g",
        "colab_type": "code",
        "outputId": "0e6ce125-9523-4b9f-92f3-b20fa3d246a8",
        "colab": {
          "base_uri": "https://localhost:8080/",
          "height": 101
        }
      },
      "source": [
        "marks"
      ],
      "execution_count": 8,
      "outputs": [
        {
          "output_type": "execute_result",
          "data": {
            "text/plain": [
              "0    45\n",
              "1    50\n",
              "2    40\n",
              "3    60\n",
              "Name: marks, dtype: int64"
            ]
          },
          "metadata": {
            "tags": []
          },
          "execution_count": 8
        }
      ]
    },
    {
      "cell_type": "code",
      "metadata": {
        "id": "ASu4_we5e0Ou",
        "colab_type": "code",
        "outputId": "849c2b0e-d1b7-49bb-bc97-c0e9efb1aa11",
        "colab": {
          "base_uri": "https://localhost:8080/",
          "height": 390
        }
      },
      "source": [
        "plt.pie(marks,labels=name)"
      ],
      "execution_count": 9,
      "outputs": [
        {
          "output_type": "execute_result",
          "data": {
            "text/plain": [
              "([<matplotlib.patches.Wedge at 0x7ff2962541d0>,\n",
              "  <matplotlib.patches.Wedge at 0x7ff2962546a0>,\n",
              "  <matplotlib.patches.Wedge at 0x7ff296254b70>,\n",
              "  <matplotlib.patches.Wedge at 0x7ff296268080>],\n",
              " [Text(0.8233618203614949, 0.7294349270298247, 'aditi'),\n",
              "  Text(-0.695689958156831, 0.8520654212674911, 'adi'),\n",
              "  Text(-0.9297090312911747, -0.5879125080618933, 'naman'),\n",
              "  Text(0.6248713583220699, -0.9052821579754742, 'tanu')])"
            ]
          },
          "metadata": {
            "tags": []
          },
          "execution_count": 9
        },
        {
          "output_type": "display_data",
          "data": {
            "image/png": "[encoded data removed]",
            "text/plain": [
              "<Figure size 432x288 with 1 Axes>"
            ]
          },
          "metadata": {
            "tags": []
          }
        }
      ]
    },
    {
      "cell_type": "code",
      "metadata": {
        "id": "W6rIztkAfyqn",
        "colab_type": "code",
        "colab": {}
      },
      "source": [
        " age=df[\"age\"]"
      ],
      "execution_count": 0,
      "outputs": []
    },
    {
      "cell_type": "code",
      "metadata": {
        "id": "Q_2Fzg-xhe78",
        "colab_type": "code",
        "outputId": "233a061c-8a46-4a82-e5d1-5c9642b7f6b0",
        "colab": {
          "base_uri": "https://localhost:8080/",
          "height": 101
        }
      },
      "source": [
        "age"
      ],
      "execution_count": 11,
      "outputs": [
        {
          "output_type": "execute_result",
          "data": {
            "text/plain": [
              "0    18\n",
              "1    19\n",
              "2    18\n",
              "3    19\n",
              "Name: age, dtype: int64"
            ]
          },
          "metadata": {
            "tags": []
          },
          "execution_count": 11
        }
      ]
    },
    {
      "cell_type": "code",
      "metadata": {
        "id": "9oeETBMohfbh",
        "colab_type": "code",
        "colab": {}
      },
      "source": [
        "studyhour=df[\"study_hour\"]"
      ],
      "execution_count": 0,
      "outputs": []
    },
    {
      "cell_type": "code",
      "metadata": {
        "id": "T3-W392ThkZV",
        "colab_type": "code",
        "outputId": "307fdd5d-7496-4f54-a393-ca7df6308597",
        "colab": {
          "base_uri": "https://localhost:8080/",
          "height": 101
        }
      },
      "source": [
        "studyhour"
      ],
      "execution_count": 13,
      "outputs": [
        {
          "output_type": "execute_result",
          "data": {
            "text/plain": [
              "0    5\n",
              "1    6\n",
              "2    7\n",
              "3    8\n",
              "Name: study_hour, dtype: int64"
            ]
          },
          "metadata": {
            "tags": []
          },
          "execution_count": 13
        }
      ]
    },
    {
      "cell_type": "code",
      "metadata": {
        "id": "DF6x5QMfhr1Q",
        "colab_type": "code",
        "outputId": "e0e57997-6408-427c-92ac-4c627a4f736f",
        "colab": {
          "base_uri": "https://localhost:8080/",
          "height": 390
        }
      },
      "source": [
        "plt.pie(studyhour,labels=name)"
      ],
      "execution_count": 14,
      "outputs": [
        {
          "output_type": "execute_result",
          "data": {
            "text/plain": [
              "([<matplotlib.patches.Wedge at 0x7ff2939b9940>,\n",
              "  <matplotlib.patches.Wedge at 0x7ff2939b9e48>,\n",
              "  <matplotlib.patches.Wedge at 0x7ff2939c3358>,\n",
              "  <matplotlib.patches.Wedge at 0x7ff2939c3828>],\n",
              " [Text(0.9052822457324837, 0.6248712311841147, 'aditi'),\n",
              "  Text(-0.3900654016728485, 1.0285178571214986, 'adi'),\n",
              "  Text(-1.0285178388612182, -0.39006544982124397, 'naman'),\n",
              "  Text(0.6248713583220699, -0.9052821579754742, 'tanu')])"
            ]
          },
          "metadata": {
            "tags": []
          },
          "execution_count": 14
        },
        {
          "output_type": "display_data",
          "data": {
            "image/png": "[encoded data removed]",
            "text/plain": [
              "<Figure size 432x288 with 1 Axes>"
            ]
          },
          "metadata": {
            "tags": []
          }
        }
      ]
    },
    {
      "cell_type": "code",
      "metadata": {
        "id": "JvGvYD3Kjis6",
        "colab_type": "code",
        "colab": {}
      },
      "source": [
        "age=df['age']"
      ],
      "execution_count": 0,
      "outputs": []
    },
    {
      "cell_type": "code",
      "metadata": {
        "id": "EIZ8_K4GFmrp",
        "colab_type": "code",
        "outputId": "fd5f18ff-678d-4c4f-cce2-d0ffe1d5defa",
        "colab": {
          "base_uri": "https://localhost:8080/",
          "height": 390
        }
      },
      "source": [
        "plt.pie(age,labels=name)"
      ],
      "execution_count": 21,
      "outputs": [
        {
          "output_type": "execute_result",
          "data": {
            "text/plain": [
              "([<matplotlib.patches.Wedge at 0x7ff2939413c8>,\n",
              "  <matplotlib.patches.Wedge at 0x7ff293941898>,\n",
              "  <matplotlib.patches.Wedge at 0x7ff293941d68>,\n",
              "  <matplotlib.patches.Wedge at 0x7ff29394e278>],\n",
              " [Text(0.794151693719924, 0.7611327659231182, 'aditi'),\n",
              "  Text(-0.7611327659231182, 0.794151693719924, 'adi'),\n",
              "  Text(-0.7941516937199241, -0.7611327659231182, 'naman'),\n",
              "  Text(0.7611327659231177, -0.7941516937199244, 'tanu')])"
            ]
          },
          "metadata": {
            "tags": []
          },
          "execution_count": 21
        },
        {
          "output_type": "display_data",
          "data": {
            "image/png": "[encoded data removed]",
            "text/plain": [
              "<Figure size 432x288 with 1 Axes>"
            ]
          },
          "metadata": {
            "tags": []
          }
        }
      ]
    },
    {
      "cell_type": "code",
      "metadata": {
        "id": "ArXnq6HzNTRd",
        "colab_type": "code",
        "colab": {}
      },
      "source": [
        "contactno=df[\"contact_no\"]"
      ],
      "execution_count": 0,
      "outputs": []
    },
    {
      "cell_type": "code",
      "metadata": {
        "id": "liqDSASeNbHe",
        "colab_type": "code",
        "colab": {
          "base_uri": "https://localhost:8080/",
          "height": 390
        },
        "outputId": "7e2b37d8-a249-4164-8126-5b5d135f0098"
      },
      "source": [
        "plt.pie(contactno,labels=name)"
      ],
      "execution_count": 23,
      "outputs": [
        {
          "output_type": "execute_result",
          "data": {
            "text/plain": [
              "([<matplotlib.patches.Wedge at 0x7ff2939046d8>,\n",
              "  <matplotlib.patches.Wedge at 0x7ff293904be0>,\n",
              "  <matplotlib.patches.Wedge at 0x7ff29390d0f0>,\n",
              "  <matplotlib.patches.Wedge at 0x7ff29390d5c0>],\n",
              " [Text(1.0430221219919016, 0.34943504837882405, 'aditi'),\n",
              "  Text(-0.3923941554053591, 1.0276316591092916, 'adi'),\n",
              "  Text(-1.0650105582304963, -0.2752317402800171, 'naman'),\n",
              "  Text(0.23082282820505434, -1.0755095638716654, 'tanu')])"
            ]
          },
          "metadata": {
            "tags": []
          },
          "execution_count": 23
        },
        {
          "output_type": "display_data",
          "data": {
            "image/png": "[encoded data removed]",
            "text/plain": [
              "<Figure size 432x288 with 1 Axes>"
            ]
          },
          "metadata": {
            "tags": []
          }
        }
      ]
    },
    {
      "cell_type": "code",
      "metadata": {
        "id": "B_-kFUMdNhiv",
        "colab_type": "code",
        "colab": {}
      },
      "source": [
        ""
      ],
      "execution_count": 0,
      "outputs": []
    }
  ]
}