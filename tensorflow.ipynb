{
  "nbformat": 4,
  "nbformat_minor": 0,
  "metadata": {
    "colab": {
      "name": "tensorflow.ipynb",
      "version": "0.3.2",
      "provenance": [],
      "collapsed_sections": [],
      "include_colab_link": true
    },
    "kernelspec": {
      "name": "python3",
      "display_name": "Python 3"
    }
  },
  "cells": [
    {
      "cell_type": "markdown",
      "metadata": {
        "id": "view-in-github",
        "colab_type": "text"
      },
      "source": [
        "<a href=\"https://colab.research.google.com/github/Aditikabra20/machine-learning/blob/ml/tensorflow.ipynb\" target=\"_parent\"><img src=\"https://colab.research.google.com/assets/colab-badge.svg\" alt=\"Open In Colab\"/></a>"
      ]
    },
    {
      "cell_type": "code",
      "metadata": {
        "id": "tOUCw-k7kO8D",
        "colab_type": "code",
        "colab": {}
      },
      "source": [
        "import tensorflow as tf"
      ],
      "execution_count": 0,
      "outputs": []
    },
    {
      "cell_type": "code",
      "metadata": {
        "id": "0Yy1N-BjknaM",
        "colab_type": "code",
        "colab": {
          "base_uri": "https://localhost:8080/",
          "height": 118
        },
        "outputId": "36fc5199-0151-4a68-eb9f-6f6111e85d13"
      },
      "source": [
        "!pip3 list | grep -i tensorflow"
      ],
      "execution_count": 30,
      "outputs": [
        {
          "output_type": "stream",
          "text": [
            "mesh-tensorflow          0.0.5                \n",
            "tensorflow               1.14.0               \n",
            "tensorflow-estimator     1.14.0               \n",
            "tensorflow-hub           0.4.0                \n",
            "tensorflow-metadata      0.13.0               \n",
            "tensorflow-probability   0.7.0                \n"
          ],
          "name": "stdout"
        }
      ]
    },
    {
      "cell_type": "code",
      "metadata": {
        "id": "WdzSW2Vbk9kY",
        "colab_type": "code",
        "colab": {}
      },
      "source": [
        "# to assign fix value in tensorflow we need to define constant\n",
        "x=tf.constant(30)"
      ],
      "execution_count": 0,
      "outputs": []
    },
    {
      "cell_type": "code",
      "metadata": {
        "id": "qRqVLb74mnBz",
        "colab_type": "code",
        "colab": {}
      },
      "source": [
        "x1=tf.constant([3,4,7])  # multi value constant\n"
      ],
      "execution_count": 0,
      "outputs": []
    },
    {
      "cell_type": "code",
      "metadata": {
        "id": "FyFFGfJ1m0Vf",
        "colab_type": "code",
        "colab": {
          "base_uri": "https://localhost:8080/",
          "height": 34
        },
        "outputId": "b765b7ef-55bb-4b38-ad40-77fa13d887c6"
      },
      "source": [
        "# type of x\n",
        "type(x)"
      ],
      "execution_count": 33,
      "outputs": [
        {
          "output_type": "execute_result",
          "data": {
            "text/plain": [
              "tensorflow.python.framework.ops.Tensor"
            ]
          },
          "metadata": {
            "tags": []
          },
          "execution_count": 33
        }
      ]
    },
    {
      "cell_type": "code",
      "metadata": {
        "id": "yd0TXju6nBq7",
        "colab_type": "code",
        "colab": {}
      },
      "source": [
        "#y\n",
        "y=tf.constant(20)"
      ],
      "execution_count": 0,
      "outputs": []
    },
    {
      "cell_type": "code",
      "metadata": {
        "id": "4F8RfQqCn-uR",
        "colab_type": "code",
        "colab": {}
      },
      "source": [
        "#equation\n",
        "z=x+y  # new folder --- z equation complie and store and wait for resorces\n",
        "# cpu,gpu ,tpu"
      ],
      "execution_count": 0,
      "outputs": []
    },
    {
      "cell_type": "code",
      "metadata": {
        "id": "-kUx0uBvoPr8",
        "colab_type": "code",
        "colab": {}
      },
      "source": [
        "# we have another method for add the same\n",
        "z1=tf.add(x,y)"
      ],
      "execution_count": 0,
      "outputs": []
    },
    {
      "cell_type": "code",
      "metadata": {
        "id": "7V9qO-Z1oaKd",
        "colab_type": "code",
        "colab": {}
      },
      "source": [
        "# now time for assigning resouces to our equation\n",
        "sess=tf.Session()  # connect CPU,GPU,tpu\n"
      ],
      "execution_count": 0,
      "outputs": []
    },
    {
      "cell_type": "code",
      "metadata": {
        "id": "PvnyR0Jt0E7h",
        "colab_type": "code",
        "colab": {}
      },
      "source": [
        "# now we can run our equation\n",
        "output=sess.run(z)"
      ],
      "execution_count": 0,
      "outputs": []
    },
    {
      "cell_type": "code",
      "metadata": {
        "id": "4YqnIkiV0UtH",
        "colab_type": "code",
        "colab": {
          "base_uri": "https://localhost:8080/",
          "height": 34
        },
        "outputId": "42eb2510-8fa6-4b99-8c84-f58a230f2df2"
      },
      "source": [
        "output"
      ],
      "execution_count": 40,
      "outputs": [
        {
          "output_type": "execute_result",
          "data": {
            "text/plain": [
              "50"
            ]
          },
          "metadata": {
            "tags": []
          },
          "execution_count": 40
        }
      ]
    },
    {
      "cell_type": "code",
      "metadata": {
        "id": "-3z_7mhQ0V0q",
        "colab_type": "code",
        "colab": {}
      },
      "source": [
        "#closunf session\n",
        "sess.close()"
      ],
      "execution_count": 0,
      "outputs": []
    },
    {
      "cell_type": "code",
      "metadata": {
        "id": "fvxFl2LE0dBD",
        "colab_type": "code",
        "colab": {}
      },
      "source": [
        "# we can perform same task in another key\n",
        "with tf.Session() as sess:\n",
        "  output1=sess.run(z)"
      ],
      "execution_count": 0,
      "outputs": []
    },
    {
      "cell_type": "code",
      "metadata": {
        "id": "hi4QAsAY0uo4",
        "colab_type": "code",
        "colab": {
          "base_uri": "https://localhost:8080/",
          "height": 34
        },
        "outputId": "41ec9eaa-89ce-449d-85ca-33ebcc4c284d"
      },
      "source": [
        "output1"
      ],
      "execution_count": 44,
      "outputs": [
        {
          "output_type": "execute_result",
          "data": {
            "text/plain": [
              "50"
            ]
          },
          "metadata": {
            "tags": []
          },
          "execution_count": 44
        }
      ]
    },
    {
      "cell_type": "code",
      "metadata": {
        "id": "PF_nc2Rb0zq9",
        "colab_type": "code",
        "colab": {}
      },
      "source": [
        "with tf.Session() as sess:\n",
        "  output1=sess.run(z)\n",
        "  tf.summary.FileWriter(sess.graph)"
      ],
      "execution_count": 0,
      "outputs": []
    },
    {
      "cell_type": "code",
      "metadata": {
        "id": "_cr9rAsX1wUT",
        "colab_type": "code",
        "colab": {
          "base_uri": "https://localhost:8080/",
          "height": 34
        },
        "outputId": "626e583f-3b2a-42ca-f947-46f50b28f55a"
      },
      "source": [
        "output1"
      ],
      "execution_count": 49,
      "outputs": [
        {
          "output_type": "execute_result",
          "data": {
            "text/plain": [
              "50"
            ]
          },
          "metadata": {
            "tags": []
          },
          "execution_count": 49
        }
      ]
    },
    {
      "cell_type": "markdown",
      "metadata": {
        "id": "V9CaYj293NNj",
        "colab_type": "text"
      },
      "source": [
        "#**placeholder**"
      ]
    },
    {
      "cell_type": "code",
      "metadata": {
        "id": "O-ouz7Pa120_",
        "colab_type": "code",
        "colab": {}
      },
      "source": [
        "#first place folder\n",
        "p1=tf.placeholder(tf.int32)"
      ],
      "execution_count": 0,
      "outputs": []
    },
    {
      "cell_type": "code",
      "metadata": {
        "id": "epl1P5IS3av9",
        "colab_type": "code",
        "colab": {}
      },
      "source": [
        "#placeholder 2\n",
        "p2=tf.placeholder(tf.int32)"
      ],
      "execution_count": 0,
      "outputs": []
    },
    {
      "cell_type": "code",
      "metadata": {
        "id": "gqE-mQR93jhg",
        "colab_type": "code",
        "colab": {}
      },
      "source": [
        "# adding values\n",
        "sum=tf.add(p1,p2)"
      ],
      "execution_count": 0,
      "outputs": []
    },
    {
      "cell_type": "code",
      "metadata": {
        "id": "R9L5wjbM3rRH",
        "colab_type": "code",
        "colab": {}
      },
      "source": [
        "#genral\n",
        "sum1=p1+p2"
      ],
      "execution_count": 0,
      "outputs": []
    },
    {
      "cell_type": "code",
      "metadata": {
        "id": "8voM1gHV3wLU",
        "colab_type": "code",
        "colab": {}
      },
      "source": [
        "# time for creating session\n",
        "with tf.Session() as sess:\n",
        "  output2=sess.run(sum1,{p1:[3,6],p2:[5,8]})"
      ],
      "execution_count": 0,
      "outputs": []
    },
    {
      "cell_type": "code",
      "metadata": {
        "id": "1SKoFAch4QHY",
        "colab_type": "code",
        "colab": {
          "base_uri": "https://localhost:8080/",
          "height": 34
        },
        "outputId": "dd05fae0-4925-4539-f498-eb243cba77b2"
      },
      "source": [
        "output2"
      ],
      "execution_count": 60,
      "outputs": [
        {
          "output_type": "execute_result",
          "data": {
            "text/plain": [
              "array([ 8, 14], dtype=int32)"
            ]
          },
          "metadata": {
            "tags": []
          },
          "execution_count": 60
        }
      ]
    },
    {
      "cell_type": "code",
      "metadata": {
        "id": "P7MkldWa4Vm4",
        "colab_type": "code",
        "colab": {}
      },
      "source": [
        ""
      ],
      "execution_count": 0,
      "outputs": []
    }
  ]
}